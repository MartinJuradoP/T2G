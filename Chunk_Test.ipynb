{
 "cells": [
  {
   "cell_type": "code",
   "execution_count": 1,
   "id": "b24f066b-4574-4241-9678-5136ea6543c9",
   "metadata": {},
   "outputs": [
    {
     "name": "stdout",
     "output_type": "stream",
     "text": [
      "{'count': 4, 'avg': 1704, 'min': 763, 'max': 2033, 'p95': 2033}\n",
      "1.0\n",
      "{'text': 1.0, 'mixed': 0.0, 'table': 0.0}\n",
      "edf75c5f10723e84 text 1996\n"
     ]
    }
   ],
   "source": [
    "import json\n",
    "from parser.schemas import DocumentChunks\n",
    "from chunker.metrics import chunk_length_stats, percent_within_threshold, table_mix_ratio\n",
    "\n",
    "with open(\"outputs_chunks/DOC-30F257C16CD2_chunks.json\",\"r\",encoding=\"utf-8\") as f:\n",
    "    dc = DocumentChunks(**json.load(f))\n",
    "\n",
    "print(chunk_length_stats(dc))\n",
    "print(percent_within_threshold(dc, 400, 2048))\n",
    "print(table_mix_ratio(dc))\n",
    "print(dc.chunks[0].id, dc.chunks[0].type, len(dc.chunks[0].text))\n"
   ]
  },
  {
   "cell_type": "code",
   "execution_count": 2,
   "id": "02ad24f1-312e-4b56-bbc7-85ed4db3fa49",
   "metadata": {},
   "outputs": [
    {
     "name": "stdout",
     "output_type": "stream",
     "text": [
      "spacy\n"
     ]
    }
   ],
   "source": [
    "import json\n",
    "j = json.load(open(\"outputs_chunks/DOC-30F257C16CD2_chunks.json\", \"r\", encoding=\"utf-8\"))\n",
    "print(j[\"meta\"][\"sentence_splitter\"])  # debería imprimir: \"spacy\"\n"
   ]
  },
  {
   "cell_type": "code",
   "execution_count": 3,
   "id": "a2ee7586-56f2-4652-9311-327854b82b04",
   "metadata": {},
   "outputs": [
    {
     "name": "stdout",
     "output_type": "stream",
     "text": [
      "spacy\n",
      "4\n",
      "['max-reached-cut', 'max-reached-cut', 'max-reached-cut', 'eof']\n"
     ]
    }
   ],
   "source": [
    "import json\n",
    "\n",
    "with open(\"outputs_chunks/DOC-30F257C16CD2_chunks.json\", \"r\", encoding=\"utf-8\") as f:\n",
    "    dc = json.load(f)\n",
    "\n",
    "print(dc[\"meta\"][\"sentence_splitter\"])  # debería ser \"spacy\"\n",
    "print(len(dc[\"chunks\"]))\n",
    "print([c[\"meta\"][\"reason\"] for c in dc[\"chunks\"]])\n"
   ]
  },
  {
   "cell_type": "code",
   "execution_count": null,
   "id": "00c8bcfd-08d4-4968-a886-ec66ad5db72d",
   "metadata": {},
   "outputs": [],
   "source": []
  }
 ],
 "metadata": {
  "kernelspec": {
   "display_name": "Python 3 (ipykernel)",
   "language": "python",
   "name": "python3"
  },
  "language_info": {
   "codemirror_mode": {
    "name": "ipython",
    "version": 3
   },
   "file_extension": ".py",
   "mimetype": "text/x-python",
   "name": "python",
   "nbconvert_exporter": "python",
   "pygments_lexer": "ipython3",
   "version": "3.11.2"
  }
 },
 "nbformat": 4,
 "nbformat_minor": 5
}

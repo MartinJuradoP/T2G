{
 "cells": [
  {
   "cell_type": "code",
   "execution_count": 1,
   "id": "1aca8f17-d2ff-4875-85bc-824a1c75e71e",
   "metadata": {},
   "outputs": [
    {
     "name": "stderr",
     "output_type": "stream",
     "text": [
      "[INFO] contextizer.router: Contextizer adaptativo cargado correctamente \n"
     ]
    }
   ],
   "source": [
    "from contextizer.hybrid.metrics_ext import (\n",
    "    entropy_topics,\n",
    "    redundancy_score,\n",
    "    keywords_diversity_ext,\n",
    "    semantic_variance,\n",
    "    coherence_semantic\n",
    ")\n"
   ]
  },
  {
   "cell_type": "code",
   "execution_count": 2,
   "id": "51142c80-1e96-458b-9f31-77dfac4a33e0",
   "metadata": {},
   "outputs": [],
   "source": [
    "import json\n",
    "\n",
    "with open('outputs_doc_topics/', 'r', encoding='utf-8') as f:\n",
    "    data = json.load(f)\n",
    "\n",
    "from contextizer.schemas import TopicsDocMeta\n",
    "topics_meta = TopicsDocMeta(**data[\"meta\"][\"topics_doc\"])\n"
   ]
  },
  {
   "cell_type": "code",
   "execution_count": 3,
   "id": "ebed9bb5-e3d0-4d04-aac0-bf2b2d4a79c3",
   "metadata": {},
   "outputs": [
    {
     "name": "stdout",
     "output_type": "stream",
     "text": [
      "Entropy: 0.000\n",
      "Redundancy: 0.000\n",
      "Diversity: 1.000\n"
     ]
    }
   ],
   "source": [
    "H = entropy_topics(topics_meta)\n",
    "R = redundancy_score(topics_meta)\n",
    "D = keywords_diversity_ext(topics_meta)\n",
    "\n",
    "print(f\"Entropy: {H:.3f}\")\n",
    "print(f\"Redundancy: {R:.3f}\")\n",
    "print(f\"Diversity: {D:.3f}\")\n"
   ]
  },
  {
   "cell_type": "code",
   "execution_count": 4,
   "id": "c4b25e42-e7d3-4dea-b57b-8276e7b5ac32",
   "metadata": {},
   "outputs": [
    {
     "name": "stderr",
     "output_type": "stream",
     "text": [
      "/Users/martinjurado/Desktop/prjs/T2G/venv/lib/python3.11/site-packages/tqdm/auto.py:21: TqdmWarning: IProgress not found. Please update jupyter and ipywidgets. See https://ipywidgets.readthedocs.io/en/stable/user_install.html\n",
      "  from .autonotebook import tqdm as notebook_tqdm\n",
      "/Users/martinjurado/Desktop/prjs/T2G/venv/lib/python3.11/site-packages/transformers/tokenization_utils_base.py:1601: FutureWarning: `clean_up_tokenization_spaces` was not set. It will be set to `True` by default. This behavior will be depracted in transformers v4.45, and will be then set to `False` by default. For more details check this issue: https://github.com/huggingface/transformers/issues/31884\n",
      "  warnings.warn(\n"
     ]
    },
    {
     "name": "stdout",
     "output_type": "stream",
     "text": [
      "Semantic Variance: 0.0000\n",
      "Semantic Coherence: 0.3574\n"
     ]
    }
   ],
   "source": [
    "from sentence_transformers import SentenceTransformer\n",
    "embedder = SentenceTransformer('all-MiniLM-L6-v2')\n",
    "\n",
    "V = semantic_variance(topics_meta, embedder)\n",
    "C = coherence_semantic(topics_meta, embedder)\n",
    "\n",
    "print(f\"Semantic Variance: {V:.4f}\")\n",
    "print(f\"Semantic Coherence: {C:.4f}\")\n"
   ]
  },
  {
   "cell_type": "code",
   "execution_count": 5,
   "id": "63bdc288-d45c-4aa0-bc9b-2f82678f5c75",
   "metadata": {},
   "outputs": [
    {
     "data": {
      "text/html": [
       "<div>\n",
       "<style scoped>\n",
       "    .dataframe tbody tr th:only-of-type {\n",
       "        vertical-align: middle;\n",
       "    }\n",
       "\n",
       "    .dataframe tbody tr th {\n",
       "        vertical-align: top;\n",
       "    }\n",
       "\n",
       "    .dataframe thead th {\n",
       "        text-align: right;\n",
       "    }\n",
       "</style>\n",
       "<table border=\"1\" class=\"dataframe\">\n",
       "  <thead>\n",
       "    <tr style=\"text-align: right;\">\n",
       "      <th></th>\n",
       "      <th>Entropy</th>\n",
       "      <th>Redundancy</th>\n",
       "      <th>Keyword Diversity</th>\n",
       "      <th>Semantic Variance</th>\n",
       "      <th>Semantic Coherence</th>\n",
       "    </tr>\n",
       "  </thead>\n",
       "  <tbody>\n",
       "    <tr>\n",
       "      <th>0</th>\n",
       "      <td>0.0</td>\n",
       "      <td>0.0</td>\n",
       "      <td>1.0</td>\n",
       "      <td>0.0</td>\n",
       "      <td>0.35735</td>\n",
       "    </tr>\n",
       "  </tbody>\n",
       "</table>\n",
       "</div>"
      ],
      "text/plain": [
       "   Entropy  Redundancy  Keyword Diversity  Semantic Variance  \\\n",
       "0      0.0         0.0                1.0                0.0   \n",
       "\n",
       "   Semantic Coherence  \n",
       "0             0.35735  "
      ]
     },
     "execution_count": 5,
     "metadata": {},
     "output_type": "execute_result"
    }
   ],
   "source": [
    "import pandas as pd\n",
    "\n",
    "metrics = {\n",
    "    \"Entropy\": [H],\n",
    "    \"Redundancy\": [R],\n",
    "    \"Keyword Diversity\": [D],\n",
    "    \"Semantic Variance\": [V],\n",
    "    \"Semantic Coherence\": [C]\n",
    "}\n",
    "\n",
    "pd.DataFrame(metrics)\n"
   ]
  },
  {
   "cell_type": "code",
   "execution_count": 12,
   "id": "edb28db4-eab6-4476-b4fd-4434a8e7baa2",
   "metadata": {},
   "outputs": [
    {
     "data": {
      "text/html": [
       "<div>\n",
       "<style scoped>\n",
       "    .dataframe tbody tr th:only-of-type {\n",
       "        vertical-align: middle;\n",
       "    }\n",
       "\n",
       "    .dataframe tbody tr th {\n",
       "        vertical-align: top;\n",
       "    }\n",
       "\n",
       "    .dataframe thead th {\n",
       "        text-align: right;\n",
       "    }\n",
       "</style>\n",
       "<table border=\"1\" class=\"dataframe\">\n",
       "  <thead>\n",
       "    <tr style=\"text-align: right;\">\n",
       "      <th></th>\n",
       "      <th>Coverage</th>\n",
       "      <th>Outlier Rate</th>\n",
       "      <th>Topic Size (Median)</th>\n",
       "      <th>Keyword Diversity (basic)</th>\n",
       "      <th>Entropy</th>\n",
       "      <th>Redundancy</th>\n",
       "      <th>Keyword Diversity (ext)</th>\n",
       "      <th>Semantic Variance</th>\n",
       "      <th>Semantic Coherence</th>\n",
       "    </tr>\n",
       "  </thead>\n",
       "  <tbody>\n",
       "    <tr>\n",
       "      <th>0</th>\n",
       "      <td>1.0</td>\n",
       "      <td>0.0</td>\n",
       "      <td>2.0</td>\n",
       "      <td>0.958333</td>\n",
       "      <td>0.982141</td>\n",
       "      <td>0.0</td>\n",
       "      <td>0.958333</td>\n",
       "      <td>0.424735</td>\n",
       "      <td>0.303534</td>\n",
       "    </tr>\n",
       "  </tbody>\n",
       "</table>\n",
       "</div>"
      ],
      "text/plain": [
       "   Coverage  Outlier Rate  Topic Size (Median)  Keyword Diversity (basic)  \\\n",
       "0       1.0           0.0                  2.0                   0.958333   \n",
       "\n",
       "    Entropy  Redundancy  Keyword Diversity (ext)  Semantic Variance  \\\n",
       "0  0.982141         0.0                 0.958333           0.424735   \n",
       "\n",
       "   Semantic Coherence  \n",
       "0            0.303534  "
      ]
     },
     "execution_count": 12,
     "metadata": {},
     "output_type": "execute_result"
    }
   ],
   "source": [
    "from contextizer.metrics import (\n",
    "    coverage, outlier_rate, topic_size_stats, keywords_diversity\n",
    ")\n",
    "from contextizer.hybrid.metrics_ext import (\n",
    "    entropy_topics, redundancy_score, keywords_diversity_ext,\n",
    "    semantic_variance, coherence_semantic\n",
    ")\n",
    "\n",
    "from contextizer.schemas import TopicsDocMeta\n",
    "import json\n",
    "from sentence_transformers import SentenceTransformer\n",
    "\n",
    "# Carga el archivo de salida del Contextizer\n",
    "data = json.load(open(\"outputs_doc_topics/DOC-D9BDC7EE25DC_doc_topics.json\"))\n",
    "dt = TopicsDocMeta(**data[\"meta\"][\"topics_doc\"])\n",
    "\n",
    "# Embedding model para las métricas semánticas\n",
    "embedder = SentenceTransformer(\"all-MiniLM-L6-v2\")\n",
    "\n",
    "# Módulo base\n",
    "base_metrics = {\n",
    "    \"Coverage\": coverage(dt),\n",
    "    \"Outlier Rate\": outlier_rate(dt),\n",
    "    \"Topic Size (Median)\": topic_size_stats(dt)[\"median\"],\n",
    "    \"Keyword Diversity (basic)\": keywords_diversity(dt),\n",
    "}\n",
    "\n",
    "# Módulo extendido\n",
    "semantic_metrics = {\n",
    "    \"Entropy\": entropy_topics(dt),\n",
    "    \"Redundancy\": redundancy_score(dt),\n",
    "    \"Keyword Diversity (ext)\": keywords_diversity_ext(dt),\n",
    "    \"Semantic Variance\": semantic_variance(dt, embedder),\n",
    "    \"Semantic Coherence\": coherence_semantic(dt, embedder),\n",
    "}\n",
    "\n",
    "# Combinar resultados\n",
    "import pandas as pd\n",
    "pd.DataFrame([base_metrics | semantic_metrics])\n"
   ]
  },
  {
   "cell_type": "code",
   "execution_count": 9,
   "id": "a331c8db-9b14-4626-a287-647cf6773a80",
   "metadata": {},
   "outputs": [
    {
     "name": "stderr",
     "output_type": "stream",
     "text": [
      "/Users/martinjurado/Desktop/prjs/T2G/venv/lib/python3.11/site-packages/transformers/tokenization_utils_base.py:1601: FutureWarning: `clean_up_tokenization_spaces` was not set. It will be set to `True` by default. This behavior will be depracted in transformers v4.45, and will be then set to `False` by default. For more details check this issue: https://github.com/huggingface/transformers/issues/31884\n",
      "  warnings.warn(\n"
     ]
    },
    {
     "name": "stdout",
     "output_type": "stream",
     "text": [
      "Merged keywords: ['contrato', 'prestación', 'servicios', 'profesionales', 'entre', 'technova', 'innovate', 'consulting', 'group.', 'group']\n",
      "KeyBERT-only keywords: ['consulting', 'innovate', 'technova', 'profesionales', 'servicios', 'prestación', 'group', 'entre', 'contrato']\n"
     ]
    }
   ],
   "source": [
    "from contextizer.hybrid.keyword_fusion import fuse_keywords\n",
    "from sentence_transformers import SentenceTransformer\n",
    "\n",
    "texts = [\"Contrato de prestación de servicios profesionales entre TechNova y Innovate Consulting Group.\"]\n",
    "embedder = SentenceTransformer(\"all-MiniLM-L6-v2\")\n",
    "\n",
    "merged, keybert_only, emb_matrix = fuse_keywords(texts, embedder, use_keybert=True)\n",
    "print(\"Merged keywords:\", merged)\n",
    "print(\"KeyBERT-only keywords:\", keybert_only)\n"
   ]
  },
  {
   "cell_type": "code",
   "execution_count": 11,
   "id": "bd40df55-bfaf-4435-b30e-86d80921b2db",
   "metadata": {},
   "outputs": [
    {
     "ename": "TypeError",
     "evalue": "unsupported operand type(s) for -: 'int' and 'function'",
     "output_type": "error",
     "traceback": [
      "\u001b[31m---------------------------------------------------------------------------\u001b[39m",
      "\u001b[31mTypeError\u001b[39m                                 Traceback (most recent call last)",
      "\u001b[36mCell\u001b[39m\u001b[36m \u001b[39m\u001b[32mIn[11]\u001b[39m\u001b[32m, line 2\u001b[39m\n\u001b[32m      1\u001b[39m context_quality = (\n\u001b[32m----> \u001b[39m\u001b[32m2\u001b[39m     coverage * (\u001b[32;43m1\u001b[39;49m\u001b[43m \u001b[49m\u001b[43m-\u001b[49m\u001b[43m \u001b[49m\u001b[43moutlier_rate\u001b[49m)\n\u001b[32m      3\u001b[39m     * (keyword_diversity_ext)\n\u001b[32m      4\u001b[39m     * (\u001b[32m1\u001b[39m - redundancy)\n\u001b[32m      5\u001b[39m     * semantic_coherence\n\u001b[32m      6\u001b[39m )\n",
      "\u001b[31mTypeError\u001b[39m: unsupported operand type(s) for -: 'int' and 'function'"
     ]
    }
   ],
   "source": [
    "context_quality = (\n",
    "    coverage * (1 - outlier_rate)\n",
    "    * (keyword_diversity_ext)\n",
    "    * (1 - redundancy)\n",
    "    * semantic_coherence\n",
    ")\n"
   ]
  },
  {
   "cell_type": "code",
   "execution_count": 15,
   "id": "84332184-5281-434f-8d75-1cf326ff111f",
   "metadata": {},
   "outputs": [
    {
     "data": {
      "text/html": [
       "<div>\n",
       "<style scoped>\n",
       "    .dataframe tbody tr th:only-of-type {\n",
       "        vertical-align: middle;\n",
       "    }\n",
       "\n",
       "    .dataframe tbody tr th {\n",
       "        vertical-align: top;\n",
       "    }\n",
       "\n",
       "    .dataframe thead th {\n",
       "        text-align: right;\n",
       "    }\n",
       "</style>\n",
       "<table border=\"1\" class=\"dataframe\">\n",
       "  <thead>\n",
       "    <tr style=\"text-align: right;\">\n",
       "      <th></th>\n",
       "    </tr>\n",
       "  </thead>\n",
       "  <tbody>\n",
       "  </tbody>\n",
       "</table>\n",
       "</div>"
      ],
      "text/plain": [
       "Empty DataFrame\n",
       "Columns: []\n",
       "Index: []"
      ]
     },
     "execution_count": 15,
     "metadata": {},
     "output_type": "execute_result"
    }
   ],
   "source": [
    "import json\n",
    "from pathlib import Path\n",
    "import pandas as pd\n",
    "\n",
    "# Directorio donde se guardan los outputs\n",
    "dir_docs = Path(\"outputs_doc_topics\")\n",
    "\n",
    "records = []\n",
    "for file in dir_docs.glob(\"*.json\"):\n",
    "    data = json.loads(file.read_text(encoding=\"utf-8\"))\n",
    "    meta = data.get(\"meta\", {}).get(\"topics_doc\", {})\n",
    "    metrics = meta.get(\"metrics_ext\", {})\n",
    "    if metrics:\n",
    "        record = {\"doc_id\": data.get(\"doc_id\", file.stem)}\n",
    "        record.update(metrics)\n",
    "        record[\"n_topics\"] = meta.get(\"n_topics\", None)\n",
    "        records.append(record)\n",
    "\n",
    "df = pd.DataFrame(records)\n",
    "df.head()\n"
   ]
  },
  {
   "cell_type": "code",
   "execution_count": 16,
   "id": "f903f878-e72a-41a1-90a7-9c7b276ff335",
   "metadata": {},
   "outputs": [
    {
     "ename": "KeyError",
     "evalue": "\"None of ['doc_id'] are in the columns\"",
     "output_type": "error",
     "traceback": [
      "\u001b[31m---------------------------------------------------------------------------\u001b[39m",
      "\u001b[31mKeyError\u001b[39m                                  Traceback (most recent call last)",
      "\u001b[32m/var/folders/sm/vkxvnt3d3230grm_m_d823c80000gn/T/ipykernel_9680/1179987838.py\u001b[39m in \u001b[36m?\u001b[39m\u001b[34m()\u001b[39m\n\u001b[32m      1\u001b[39m \u001b[38;5;28;01mimport\u001b[39;00m matplotlib.pyplot \u001b[38;5;28;01mas\u001b[39;00m plt\n\u001b[32m      2\u001b[39m \n\u001b[32m----> \u001b[39m\u001b[32m3\u001b[39m df.set_index(\"doc_id\")[[\n\u001b[32m      4\u001b[39m     \u001b[33m\"entropy_topics\"\u001b[39m,\n\u001b[32m      5\u001b[39m     \u001b[33m\"redundancy_score\"\u001b[39m,\n\u001b[32m      6\u001b[39m     \u001b[33m\"keywords_diversity_ext\"\u001b[39m,\n",
      "\u001b[32m~/Desktop/prjs/T2G/venv/lib/python3.11/site-packages/pandas/core/frame.py\u001b[39m in \u001b[36m?\u001b[39m\u001b[34m(self, keys, drop, append, inplace, verify_integrity)\u001b[39m\n\u001b[32m   6118\u001b[39m                     \u001b[38;5;28;01mif\u001b[39;00m \u001b[38;5;28;01mnot\u001b[39;00m found:\n\u001b[32m   6119\u001b[39m                         missing.append(col)\n\u001b[32m   6120\u001b[39m \n\u001b[32m   6121\u001b[39m         \u001b[38;5;28;01mif\u001b[39;00m missing:\n\u001b[32m-> \u001b[39m\u001b[32m6122\u001b[39m             \u001b[38;5;28;01mraise\u001b[39;00m KeyError(\u001b[33mf\"None of {missing} are in the columns\"\u001b[39m)\n\u001b[32m   6123\u001b[39m \n\u001b[32m   6124\u001b[39m         \u001b[38;5;28;01mif\u001b[39;00m inplace:\n\u001b[32m   6125\u001b[39m             frame = self\n",
      "\u001b[31mKeyError\u001b[39m: \"None of ['doc_id'] are in the columns\""
     ]
    }
   ],
   "source": [
    "import matplotlib.pyplot as plt\n",
    "\n",
    "df.set_index(\"doc_id\")[[\n",
    "    \"entropy_topics\",\n",
    "    \"redundancy_score\",\n",
    "    \"keywords_diversity_ext\",\n",
    "    \"semantic_variance\",\n",
    "    \"coherence_semantic\"\n",
    "]].plot(kind=\"bar\", figsize=(12,6))\n",
    "plt.title(\"Comparativo de métricas extendidas por documento\")\n",
    "plt.ylabel(\"Valor normalizado (0–1)\")\n",
    "plt.xticks(rotation=45)\n",
    "plt.tight_layout()\n",
    "plt.show()\n"
   ]
  },
  {
   "cell_type": "code",
   "execution_count": null,
   "id": "6864ad76-1efb-465b-9f1e-a0b0afb5017a",
   "metadata": {},
   "outputs": [],
   "source": []
  }
 ],
 "metadata": {
  "kernelspec": {
   "display_name": "venv",
   "language": "python",
   "name": "venv"
  },
  "language_info": {
   "codemirror_mode": {
    "name": "ipython",
    "version": 3
   },
   "file_extension": ".py",
   "mimetype": "text/x-python",
   "name": "python",
   "nbconvert_exporter": "python",
   "pygments_lexer": "ipython3",
   "version": "3.11.2"
  }
 },
 "nbformat": 4,
 "nbformat_minor": 5
}

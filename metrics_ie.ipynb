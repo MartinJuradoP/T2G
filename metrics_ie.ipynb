{
 "cells": [
  {
   "cell_type": "markdown",
   "id": "575e6d07",
   "metadata": {},
   "source": [
    "\n",
    "# IE Metrics — Mentions vs Triples\n",
    "\n",
    "Este notebook calcula métricas simples para validar la extracción de información:\n",
    "\n",
    "- Conteos por documento (entidades y relaciones).\n",
    "- Distribución de etiquetas de entidades y relaciones.\n",
    "- **Support@Triples**: % de relaciones en *mentions* que tienen evidencia en *triples* (misma oración y relación canónica).\n",
    "- Desglose por etiqueta y por documento.\n"
   ]
  },
  {
   "cell_type": "code",
   "execution_count": 12,
   "id": "81829a43-8aa1-4365-bd9e-a1260c79a89c",
   "metadata": {},
   "outputs": [],
   "source": [
    "import os, glob, json\n",
    "from pathlib import Path\n",
    "import pandas as pd\n",
    "import matplotlib.pyplot as plt\n",
    "\n",
    "MENTIONS_DIR = \"outputs_mentions\"\n",
    "TRIPLES_DIR  = \"outputs_triples\"\n",
    "\n",
    "def _canon_rel(x: str) -> str:\n",
    "    # canónica simple acorde al pipeline (minúsculas, _)\n",
    "    return str(x or \"\").strip().lower().replace(\" \", \"_\")\n",
    "\n",
    "def _get_sid(obj):\n",
    "    # intenta varias rutas para sentence_idx\n",
    "    if isinstance(obj, dict):\n",
    "        if \"sentence_idx\" in obj and obj[\"sentence_idx\"] is not None:\n",
    "            return obj[\"sentence_idx\"]\n",
    "        meta = obj.get(\"meta\", {}) or {}\n",
    "        if \"sentence_idx\" in meta and meta[\"sentence_idx\"] is not None:\n",
    "            return meta[\"sentence_idx\"]\n",
    "    return None\n",
    "\n",
    "def load_mentions_df(mentions_dir: str) -> pd.DataFrame:\n",
    "    rows = []\n",
    "    for f in glob.glob(os.path.join(mentions_dir, \"*_mentions.json\")):\n",
    "        with open(f, \"r\", encoding=\"utf-8\") as fh:\n",
    "            data = json.load(fh)\n",
    "        doc_id = data.get(\"doc_id\") or Path(f).stem.replace(\"_mentions\", \"\")\n",
    "        for r in data.get(\"relations\", []):\n",
    "            label = r.get(\"canonical_label\") or r.get(\"label\")\n",
    "            sid   = _get_sid(r)\n",
    "            rows.append({\n",
    "                \"doc_id\": str(doc_id),\n",
    "                \"sentence_idx\": sid,\n",
    "                \"label\": _canon_rel(label),\n",
    "                \"source_file\": f,\n",
    "            })\n",
    "    return pd.DataFrame(rows)\n",
    "\n",
    "def load_triples_df(triples_dir: str) -> pd.DataFrame:\n",
    "    rows = []\n",
    "    for f in glob.glob(os.path.join(triples_dir, \"*_triples.json\")):\n",
    "        with open(f, \"r\", encoding=\"utf-8\") as fh:\n",
    "            data = json.load(fh)\n",
    "        doc_id = data.get(\"doc_id\") or Path(f).stem.replace(\"_triples\", \"\")\n",
    "        for t in data.get(\"triples\", []):\n",
    "            label = t.get(\"canonical_relation\") or t.get(\"relation\")\n",
    "            sid   = _get_sid(t)\n",
    "            rows.append({\n",
    "                \"doc_id\": str(doc_id),\n",
    "                \"sentence_idx\": sid,\n",
    "                \"label\": _canon_rel(label),\n",
    "                \"source_file\": f,\n",
    "            })\n",
    "    return pd.DataFrame(rows)\n",
    "\n",
    "# --- Cargar\n",
    "rel_df = load_mentions_df(MENTIONS_DIR)\n",
    "tri_df = load_triples_df(TRIPLES_DIR)"
   ]
  },
  {
   "cell_type": "code",
   "execution_count": 13,
   "id": "a52553a0-9306-4001-8181-a1a0a64a1814",
   "metadata": {},
   "outputs": [],
   "source": [
    "# --- Limpieza básica\n",
    "for df in [rel_df, tri_df]:\n",
    "    # elimina filas sin sentence_idx o label\n",
    "    df.dropna(subset=[\"sentence_idx\", \"label\"], inplace=True)\n",
    "    # sentence_idx como int (si falla, deja como int via astype err-safe)\n",
    "    df[\"sentence_idx\"] = df[\"sentence_idx\"].astype(int, errors=\"ignore\")\n",
    "    # key unificada doc::sent::label\n",
    "    df[\"key\"] = df[\"doc_id\"].astype(str) + \"::\" + df[\"sentence_idx\"].astype(str) + \"::\" + df[\"label\"].astype(str)"
   ]
  },
  {
   "cell_type": "code",
   "execution_count": null,
   "id": "6ccdb0a9-0591-4cc2-9edf-04d9f894d26f",
   "metadata": {},
   "outputs": [],
   "source": []
  }
 ],
 "metadata": {
  "kernelspec": {
   "display_name": "Python (venv)",
   "language": "python",
   "name": "venv"
  },
  "language_info": {
   "codemirror_mode": {
    "name": "ipython",
    "version": 3
   },
   "file_extension": ".py",
   "mimetype": "text/x-python",
   "name": "python",
   "nbconvert_exporter": "python",
   "pygments_lexer": "ipython3",
   "version": "3.11.2"
  }
 },
 "nbformat": 4,
 "nbformat_minor": 5
}

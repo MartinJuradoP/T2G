{
 "cells": [
  {
   "cell_type": "code",
   "execution_count": 1,
   "id": "ea02ae11-6e7d-4bf4-be01-9cfa24079c84",
   "metadata": {},
   "outputs": [
    {
     "data": {
      "text/plain": [
       "({'count': 1, 'avg': 184, 'min': 184, 'max': 184, 'p95': 184},\n",
       " 0.0,\n",
       " {'text': 1.0, 'mixed': 0.0, 'table': 0.0})"
      ]
     },
     "execution_count": 1,
     "metadata": {},
     "output_type": "execute_result"
    }
   ],
   "source": [
    "# Dentro de un ipython/Notebook:\n",
    "import json, glob\n",
    "from chunker.metrics import chunk_length_stats, percent_within_threshold, table_mix_ratio\n",
    "from parser.schemas import DocumentChunks\n",
    "\n",
    "path = sorted(glob.glob(\"outputs_chunks/*_chunks.json\"))[0]\n",
    "dc = DocumentChunks(**json.load(open(path)))\n",
    "chunk_length_stats(dc), percent_within_threshold(dc, 400, 2048), table_mix_ratio(dc)\n"
   ]
  },
  {
   "cell_type": "code",
   "execution_count": 2,
   "id": "e5d6f4b1-70a6-489d-afe1-aa25ee5ded22",
   "metadata": {},
   "outputs": [
    {
     "name": "stdout",
     "output_type": "stream",
     "text": [
      "docs: 6\n",
      "promedio keep_rate: 0.692\n",
      "outputs_sentences/DOC-22ACBE4E0DE3_sentences.json: kept=1/2 (0.50)\n",
      "outputs_sentences/DOC-2A790AFDC9CD_sentences.json: kept=38/43 (0.88)\n",
      "outputs_sentences/DOC-358E80174EB4_sentences.json: kept=38/43 (0.88)\n",
      "outputs_sentences/DOC-832FD47087FB_sentences.json: kept=38/43 (0.88)\n",
      "outputs_sentences/DOC-929677A76E8E_sentences.json: kept=1/2 (0.50)\n",
      "outputs_sentences/DOC-F1391BB88564_sentences.json: kept=1/2 (0.50)\n"
     ]
    }
   ],
   "source": [
    "import json, glob\n",
    "from statistics import mean\n",
    "\n",
    "def load_meta(path):\n",
    "    j = json.load(open(path, \"r\", encoding=\"utf-8\"))\n",
    "    m = j.get(\"meta\", {})\n",
    "    c = m.get(\"counters\", {})\n",
    "    return path, c.get(\"kept\", 0), c.get(\"total_split\", 0), c.get(\"keep_rate\", 0.0)\n",
    "\n",
    "rows = [load_meta(p) for p in sorted(glob.glob(\"outputs_sentences/*_sentences.json\"))]\n",
    "print(\"docs:\", len(rows))\n",
    "print(\"promedio keep_rate:\", round(mean([r[3] for r in rows if r[2]>0]), 3))\n",
    "for p,k,t,kr in rows:\n",
    "    print(f\"{p}: kept={k}/{t} ({kr:.2f})\")\n"
   ]
  },
  {
   "cell_type": "code",
   "execution_count": null,
   "id": "eca396a6-fead-457f-a8cd-b975aae8fc0d",
   "metadata": {},
   "outputs": [],
   "source": []
  }
 ],
 "metadata": {
  "kernelspec": {
   "display_name": "Python 3 (ipykernel)",
   "language": "python",
   "name": "python3"
  },
  "language_info": {
   "codemirror_mode": {
    "name": "ipython",
    "version": 3
   },
   "file_extension": ".py",
   "mimetype": "text/x-python",
   "name": "python",
   "nbconvert_exporter": "python",
   "pygments_lexer": "ipython3",
   "version": "3.11.2"
  }
 },
 "nbformat": 4,
 "nbformat_minor": 5
}

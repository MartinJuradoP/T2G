{
 "cells": [
  {
   "cell_type": "code",
   "execution_count": null,
   "id": "4810c788-440d-4e9d-b65e-2d69a126bb6e",
   "metadata": {},
   "outputs": [],
   "source": [
    "# Imports del paquete\n",
    "from parser.parsers import Parser, _guess_mime\n",
    "from parser.metrics import percent_docs_ok, layout_loss, table_consistency\n",
    "\n",
    "# Extras para visualizar\n",
    "from pathlib import Path\n",
    "import pandas as pd\n",
    "from textwrap import shorten\n",
    "\n",
    "# Ruta de prueba (ajústala a tu archivo)\n",
    "SAMPLE = \"docs/Resume Martin Jurado_CDAO_24.pdf\"   # o .docx / .png / .jpg\n",
    "Path(SAMPLE).exists()\n"
   ]
  },
  {
   "cell_type": "code",
   "execution_count": null,
   "id": "9cff3caa-edf3-479d-9675-f41e2034a108",
   "metadata": {},
   "outputs": [],
   "source": [
    "parser = Parser()\n",
    "doc = parser.parse(SAMPLE)\n",
    "\n",
    "print(\"doc_id:\", doc.doc_id)\n",
    "print(\"mime  :\", doc.mime)\n",
    "print(\"#pages:\", len(doc.pages))\n"
   ]
  },
  {
   "cell_type": "code",
   "execution_count": null,
   "id": "32a2ce08-cf77-44d2-b7d0-6e5dd0a3805a",
   "metadata": {},
   "outputs": [],
   "source": [
    "def doc_to_blocks_df(doc):\n",
    "    rows = []\n",
    "    for p in doc.pages:\n",
    "        for i, b in enumerate(p.blocks):\n",
    "            t = b.get(\"type\")\n",
    "            txt = b.get(\"text\", \"\")\n",
    "            # Creemos una vista corta del texto para no saturar la tabla\n",
    "            rows.append({\n",
    "                \"page\": p.page_number,\n",
    "                \"block_idx\": i,\n",
    "                \"type\": t,\n",
    "                \"text_preview\": shorten(txt, width=90, placeholder=\"...\") if isinstance(txt, str) else None,\n",
    "                \"n_chars\": len(txt) if isinstance(txt, str) else None\n",
    "            })\n",
    "    return pd.DataFrame(rows)\n",
    "\n",
    "df_blocks = doc_to_blocks_df(doc)\n",
    "\n",
    "if len(df_blocks) == 0:\n",
    "    print(\"El parser no generó bloques (posible PDF escaneado sin OCR).\")\n",
    "else:\n",
    "    display(df_blocks.head(20))\n",
    "    display(df_blocks.groupby([\"page\", \"type\"]).size().unstack(fill_value=0).head(20))\n",
    "\n"
   ]
  },
  {
   "cell_type": "code",
   "execution_count": null,
   "id": "567dd78f-0f9c-43a3-94ee-cc8324a2b469",
   "metadata": {},
   "outputs": [],
   "source": [
    "df_blocks.groupby([\"page\", \"type\"]).size().unstack(fill_value=0).head(20)"
   ]
  },
  {
   "cell_type": "code",
   "execution_count": null,
   "id": "a7a3b1ff-c7cf-420c-9245-646c0853381e",
   "metadata": {},
   "outputs": [],
   "source": [
    "print(\"layout_loss:\", round(layout_loss(doc), 3))\n",
    "print(\"table_consistency:\", table_consistency(doc, golden_tables_per_doc=None))\n"
   ]
  },
  {
   "cell_type": "code",
   "execution_count": null,
   "id": "a9db6975-de00-4d1d-b633-a474785ef6b6",
   "metadata": {},
   "outputs": [],
   "source": [
    "table_consistency(doc, golden_tables_per_doc=0)\n"
   ]
  },
  {
   "cell_type": "code",
   "execution_count": null,
   "id": "d9c387e4-0f27-4708-8e16-28df114eb068",
   "metadata": {},
   "outputs": [],
   "source": [
    "# Procesar varios archivos y medir %docs_ok\n",
    "FILES = [\n",
    "    \"docs/Resume Martin Jurado_CDAO_24.pdf\",\n",
    "    # \"samples/otro.docx\",\n",
    "    # \"samples/imagen.png\",\n",
    "]\n",
    "docs = []\n",
    "for p in FILES:\n",
    "    try:\n",
    "        docs.append(parser.parse(p))\n",
    "    except Exception as e:\n",
    "        print(\"[ERR]\", p, e)\n",
    "        docs.append(None)\n",
    "\n",
    "print(\"%docs_ok:\", round(percent_docs_ok(docs), 2))\n"
   ]
  },
  {
   "cell_type": "code",
   "execution_count": null,
   "id": "59c8834f-aaea-4896-85dc-e8f79739d72e",
   "metadata": {},
   "outputs": [],
   "source": [
    "print(_guess_mime(SAMPLE))"
   ]
  },
  {
   "cell_type": "code",
   "execution_count": null,
   "id": "6a3f1a3a-9dce-41fe-a821-81794c656c70",
   "metadata": {},
   "outputs": [],
   "source": [
    "parser = Parser(\n",
    "    ocr_lang=\"spa+eng\",        # OCR en español+inglés si lo necesitas\n",
    "    ocr_resolution=220,        # DPI para rasterizar páginas en fallback\n",
    "    normalize_whitespace=True, # limpia espacios\n",
    "    dehyphenate=True,          # recomponer palabras cortadas por guion\n",
    "    enable_pdf_ocr_fallback=True,\n",
    "    # tesseract_cmd=r\"C:\\Program Files\\Tesseract-OCR\\tesseract.exe\",  # (Windows)\n",
    ")\n",
    "\n",
    "doc = parser.parse(\"docs/Resume Martin Jurado_CDAO_24.pdf\")\n",
    "len(doc.pages), doc.meta"
   ]
  },
  {
   "cell_type": "code",
   "execution_count": null,
   "id": "a22f4feb-65cb-4988-9ee9-ace438c3720c",
   "metadata": {},
   "outputs": [],
   "source": [
    "doc = parser.parse(\"docs/Resume Martin Jurado_CDAO_24.pdf\")\n",
    "len(doc.pages), doc.meta\n"
   ]
  },
  {
   "cell_type": "code",
   "execution_count": null,
   "id": "19b4147a-1984-408e-aa45-22f6dbd54637",
   "metadata": {},
   "outputs": [],
   "source": [
    "import pandas as pd\n",
    "from textwrap import shorten\n",
    "\n",
    "def doc_to_blocks_df(doc):\n",
    "    rows = []\n",
    "    for p in doc.pages:\n",
    "        for i, b in enumerate(p.blocks):\n",
    "            t = b.get(\"type\")\n",
    "            txt = b.get(\"text\", \"\")\n",
    "            rows.append({\n",
    "                \"page\": p.page_number,\n",
    "                \"block_idx\": i,\n",
    "                \"type\": t,\n",
    "                \"text_preview\": shorten(txt, width=100, placeholder=\"...\") if isinstance(txt, str) else None,\n",
    "                \"n_chars\": len(txt) if isinstance(txt, str) else None\n",
    "            })\n",
    "    return pd.DataFrame(rows)\n",
    "\n",
    "df_blocks = doc_to_blocks_df(doc)\n",
    "if len(df_blocks) == 0:\n",
    "    print(\"El parser no generó bloques (posible PDF escaneado sin OCR).\")\n",
    "else:\n",
    "    display(df_blocks.head(20))\n",
    "    display(df_blocks.groupby([\"page\", \"type\"]).size().unstack(fill_value=0).head(20))\n"
   ]
  },
  {
   "cell_type": "code",
   "execution_count": null,
   "id": "45b18a52-a2a2-49e6-a04c-a3291cd5465b",
   "metadata": {},
   "outputs": [],
   "source": [
    "from parser.metrics import percent_docs_ok, layout_loss, table_consistency\n",
    "print(\"layout_loss:\", round(layout_loss(doc), 3))\n",
    "print(\"table_consistency:\", table_consistency(doc, golden_tables_per_doc=None))\n"
   ]
  },
  {
   "cell_type": "code",
   "execution_count": null,
   "id": "ab94d5e4-cdf0-4a18-87ea-7c11c4535f57",
   "metadata": {},
   "outputs": [],
   "source": []
  }
 ],
 "metadata": {
  "kernelspec": {
   "display_name": "Python 3 (ipykernel)",
   "language": "python",
   "name": "python3"
  },
  "language_info": {
   "codemirror_mode": {
    "name": "ipython",
    "version": 3
   },
   "file_extension": ".py",
   "mimetype": "text/x-python",
   "name": "python",
   "nbconvert_exporter": "python",
   "pygments_lexer": "ipython3",
   "version": "3.11.2"
  }
 },
 "nbformat": 4,
 "nbformat_minor": 5
}
